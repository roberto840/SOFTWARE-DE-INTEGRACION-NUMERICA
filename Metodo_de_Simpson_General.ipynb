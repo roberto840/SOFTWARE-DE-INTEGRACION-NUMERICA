{
  "nbformat": 4,
  "nbformat_minor": 0,
  "metadata": {
    "colab": {
      "name": "Metodo de Simpson General.ipynb",
      "provenance": [],
      "collapsed_sections": []
    },
    "kernelspec": {
      "name": "python3",
      "display_name": "Python 3"
    },
    "language_info": {
      "name": "python"
    }
  },
  "cells": [
    {
      "cell_type": "code",
      "metadata": {
        "colab": {
          "base_uri": "https://localhost:8080/"
        },
        "id": "028soOh-Hicr",
        "outputId": "7c080a1d-4f5d-4e10-8a24-b4c16698e108"
      },
      "source": [
        "import math\n",
        "def f(x):\n",
        "  funcion=x**2*math.cos(x)\n",
        "  return funcion\n",
        "a=0\n",
        "b=math.pi\n",
        "n=6\n",
        "SumatoriaPar=0\n",
        "SumatoriaImpar=0\n",
        "h=(b-a)/n\n",
        "if n%2==0:\n",
        "  for i in range(1,n):\n",
        "    Xi=a+i*h\n",
        "    if i%2==0:\n",
        "      SumatoriaPar=SumatoriaPar+f(Xi)\n",
        "    else:\n",
        "      SumatoriaImpar=SumatoriaImpar+f(Xi)\n",
        "  resultado=(h/3)*(f(a)+f(b))+(((2*h)/3)*(SumatoriaPar))+(((4*h)/3)*(SumatoriaImpar))\n",
        "  print ('Resultado:'+str(resultado))\n",
        "  error=abs(-6.28318-resultado)\n",
        "  print('Error:'+str(error))\n",
        "else:\n",
        "  print('No existe una solucion')"
      ],
      "execution_count": null,
      "outputs": [
        {
          "output_type": "stream",
          "text": [
            "Resultado:-6.27486838845312\n",
            "Error:0.00831161154687976\n"
          ],
          "name": "stdout"
        }
      ]
    }
  ]
}