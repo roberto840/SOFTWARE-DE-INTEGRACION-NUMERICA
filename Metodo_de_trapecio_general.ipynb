{
  "nbformat": 4,
  "nbformat_minor": 0,
  "metadata": {
    "colab": {
      "name": "Metodo de trapecio general.ipynb",
      "provenance": [],
      "collapsed_sections": []
    },
    "kernelspec": {
      "name": "python3",
      "display_name": "Python 3"
    },
    "language_info": {
      "name": "python"
    }
  },
  "cells": [
    {
      "cell_type": "code",
      "metadata": {
        "colab": {
          "base_uri": "https://localhost:8080/"
        },
        "id": "028soOh-Hicr",
        "outputId": "99147ee2-4d63-4196-9a77-9bdf6a0f24e6"
      },
      "source": [
        "import math\n",
        "def f(x):\n",
        "  funcion=x**2*math.cos(x)\n",
        "  return funcion\n",
        "a=0\n",
        "b=math.pi\n",
        "n=6\n",
        "Sumatoria=0\n",
        "h=(b-a)/n\n",
        "for i in range(0,n):\n",
        "  Xi=a+i*h\n",
        "  Sumatoria=Sumatoria+f(Xi)\n",
        "resultado=(h/2)*(f(a)+f(b))+(h*Sumatoria)\n",
        "print ('Resultado:'+str(resultado))\n",
        "error=abs(-6.28318-resultado)\n",
        "print('Error:'+str(error))"
      ],
      "execution_count": null,
      "outputs": [
        {
          "output_type": "stream",
          "text": [
            "Resultado:-6.428722218023164\n",
            "Error:0.1455422180231638\n"
          ],
          "name": "stdout"
        }
      ]
    }
  ]
}